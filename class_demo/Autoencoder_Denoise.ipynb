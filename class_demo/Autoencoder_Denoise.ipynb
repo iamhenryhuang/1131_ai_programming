{
  "nbformat": 4,
  "nbformat_minor": 0,
  "metadata": {
    "colab": {
      "provenance": [],
      "gpuType": "T4"
    },
    "kernelspec": {
      "name": "python3",
      "display_name": "Python 3"
    },
    "language_info": {
      "name": "python"
    },
    "accelerator": "GPU"
  },
  "cells": [
    {
      "cell_type": "markdown",
      "source": [
        "# 環境設定"
      ],
      "metadata": {
        "id": "koRqTz_7Y4kP"
      }
    },
    {
      "cell_type": "markdown",
      "source": [
        "## 載入所需的函式庫"
      ],
      "metadata": {
        "id": "bm2Ee6UnYkZD"
      }
    },
    {
      "cell_type": "code",
      "execution_count": null,
      "metadata": {
        "id": "Vs5WLh2sYa0I"
      },
      "outputs": [],
      "source": [
        "import tensorflow as tf\n",
        "from tensorflow.keras.layers import Input, Dense\n",
        "from tensorflow.keras.models import Model\n",
        "import numpy as np\n",
        "import matplotlib.pyplot as plt"
      ]
    },
    {
      "cell_type": "markdown",
      "source": [
        "## 載入 MNIST 資料集\n",
        "\n",
        "* Autoencoder 屬於「自監督學習」（Self-supervised Learning）。\n",
        "* 它透過比對「輸入值」與「生成值」來計算模型效能。因此不需要 Y_train 與 Y_test。"
      ],
      "metadata": {
        "id": "7wkBiCWeYs3Z"
      }
    },
    {
      "cell_type": "code",
      "source": [
        "from tensorflow.keras.datasets import mnist\n",
        "\n",
        "(X_train, _), (X_test, _) = mnist.load_data()"
      ],
      "metadata": {
        "id": "XSreWB2hYzj1",
        "colab": {
          "base_uri": "https://localhost:8080/"
        },
        "outputId": "006704e3-87da-4d5c-de25-506ca7b2ba0f"
      },
      "execution_count": null,
      "outputs": [
        {
          "output_type": "stream",
          "name": "stdout",
          "text": [
            "Downloading data from https://storage.googleapis.com/tensorflow/tf-keras-datasets/mnist.npz\n",
            "\u001b[1m11490434/11490434\u001b[0m \u001b[32m━━━━━━━━━━━━━━━━━━━━\u001b[0m\u001b[37m\u001b[0m \u001b[1m0s\u001b[0m 0us/step\n"
          ]
        }
      ]
    },
    {
      "cell_type": "markdown",
      "source": [
        "# 前處理"
      ],
      "metadata": {
        "id": "iv3bAVY7am0i"
      }
    },
    {
      "cell_type": "markdown",
      "source": [
        "## 正規化與展平圖片"
      ],
      "metadata": {
        "id": "FnD_zkX7ap40"
      }
    },
    {
      "cell_type": "code",
      "source": [
        "# 將 0~255 正規化為 0~1 之間\n",
        "X_train = X_train.astype('float32') / 255.\n",
        "X_test = X_test.astype('float32') / 255.\n",
        "\n",
        "# 展平圖片\n",
        "# len(X_train) 會計算 X_train 有幾筆資料。以 X_train.shape = (60000, 28, 28) 來說，len(X_train) 就是 60000。\n",
        "# X_train.shape[1:] 會取 X_train 索引值 1 以後的所有維度。本例為 (28, 28)\n",
        "# np.prod() 將當前陣列內的元素，全部相乘。本例為 28x28 = 784\n",
        "X_train = X_train.reshape((len(X_train), np.prod(X_train.shape[1:])))\n",
        "X_test = X_test.reshape((len(X_test), np.prod(X_test.shape[1:])))"
      ],
      "metadata": {
        "id": "OtNjt18jau1G"
      },
      "execution_count": null,
      "outputs": []
    },
    {
      "cell_type": "markdown",
      "source": [
        "## 添加隨機雜訊"
      ],
      "metadata": {
        "id": "nm3Hx_d_bOTx"
      }
    },
    {
      "cell_type": "code",
      "source": [
        "# 選擇添加 50% 的雜訊到原圖上\n",
        "noise_factor = 0.5\n",
        "\n",
        "# 將原圖加上雜訊\n",
        "# np.random.normal()：會從常態分佈中，取樣一個亂數出來\n",
        "# loc=0.0 : 用來指定這個常態分佈的 μ=0.0\n",
        "# scale=1.0 : 用來指定這個常態分佈的 σ=1.0\n",
        "# size=X_train.shape : 用來指定要產生一個二維陣列 (60000, 784) 的亂數\n",
        "# 此時 X 每個元素的數值，將會是「原值 + 0.5 * (-1.0, 1.0)」= 「原值 + (-0.5, 0.5)」\n",
        "X_train_noisy = X_train + noise_factor * np.random.normal(loc=0.0, scale=1.0, size=X_train.shape)\n",
        "X_test_noisy = X_test + noise_factor * np.random.normal(loc=0.0, scale=1.0, size=X_test.shape)\n",
        "\n",
        "# np.clip() 可以把數字裁剪限制在某個範圍內\n",
        "# 低於 0 的當成 0, 高於 1 的當成 1\n",
        "X_train_noisy = np.clip(X_train_noisy, 0., 1.)\n",
        "X_test_noisy = np.clip(X_test_noisy, 0., 1.)"
      ],
      "metadata": {
        "id": "nd4aYQBzbSGk"
      },
      "execution_count": null,
      "outputs": []
    },
    {
      "cell_type": "markdown",
      "source": [
        "# 建立 Denoise Autoencoder 模型\n",
        "\n",
        "* Autoencoder 通常用於重構輸入數據，而不是進行傳統意義上的分類或回歸任務。\n",
        "* 在 Autoencoder 的案例中，我們通常關注的是重構誤差，這通常通過損失函數（如均方誤差或二元交叉熵）來衡量。\n",
        "* 因此，在編譯 Autoencoder 時，一般不會指定任何 metrics 參數。\n",
        "* 不過，如果您想要更詳細地監控模型的訓練過程，您可以添加均方誤差（MSE）指標。"
      ],
      "metadata": {
        "id": "po3SZiHbbmjd"
      }
    },
    {
      "cell_type": "code",
      "source": [
        "# 輸入層：一維 784 個節點\n",
        "input_img = Input(shape=(784,))\n",
        "\n",
        "# 編碼層：一維 128 個節點\n",
        "encoded = Dense(128, activation='relu')(input_img)\n",
        "\n",
        "# 解碼層：一維 784 個節點\n",
        "decoded = Dense(784, activation='sigmoid')(encoded)\n",
        "\n",
        "# 將「頭尾」丟給 Model，做為「自變數 vs. 應變數」，請它合成整個模型\n",
        "autoencoder = Model(input_img, decoded)\n",
        "\n",
        " # 編譯模型\n",
        " # 由於是輸入層 784 像點 vs. 輸出層 784 像點對比，只有「相同」與「不同」兩種可能，因此使用「二元交叉熵」當損失函數\n",
        "autoencoder.compile(optimizer='adam', loss='binary_crossentropy', metrics=[\"mse\"])"
      ],
      "metadata": {
        "id": "ih3QUvaCbsSv"
      },
      "execution_count": null,
      "outputs": []
    },
    {
      "cell_type": "markdown",
      "source": [
        "# 訓練模型\n",
        "\n",
        "* autoencoder = Model(input_img, decoded) 要求使用時，需給定自變數與應變數。\n",
        "* X_train_noisy 就是 input_img，做為自變數。\n",
        "* X_train 就是 decode，做為應變數（正確答案）。\n",
        "* shuffle=True: 訓練前將資料集順序打亂，避免模型學到特定順序"
      ],
      "metadata": {
        "id": "Exay3g4zcDqD"
      }
    },
    {
      "cell_type": "code",
      "source": [
        "epochs_metrics = autoencoder.fit(X_train_noisy, X_train,\n",
        "                                epochs=100,\n",
        "                                batch_size=256,\n",
        "                                shuffle=True,\n",
        "                                validation_data=(X_test_noisy, X_test))"
      ],
      "metadata": {
        "colab": {
          "base_uri": "https://localhost:8080/"
        },
        "id": "JHZ_Eb3ucF7q",
        "outputId": "1cf521a5-4c75-462d-a897-98f100bf141b"
      },
      "execution_count": null,
      "outputs": [
        {
          "output_type": "stream",
          "name": "stdout",
          "text": [
            "Epoch 1/100\n",
            "\u001b[1m235/235\u001b[0m \u001b[32m━━━━━━━━━━━━━━━━━━━━\u001b[0m\u001b[37m\u001b[0m \u001b[1m5s\u001b[0m 9ms/step - loss: 0.3133 - mse: 0.0832 - val_loss: 0.1680 - val_mse: 0.0339\n",
            "Epoch 2/100\n",
            "\u001b[1m235/235\u001b[0m \u001b[32m━━━━━━━━━━━━━━━━━━━━\u001b[0m\u001b[37m\u001b[0m \u001b[1m1s\u001b[0m 4ms/step - loss: 0.1602 - mse: 0.0313 - val_loss: 0.1396 - val_mse: 0.0247\n",
            "Epoch 3/100\n",
            "\u001b[1m235/235\u001b[0m \u001b[32m━━━━━━━━━━━━━━━━━━━━\u001b[0m\u001b[37m\u001b[0m \u001b[1m1s\u001b[0m 4ms/step - loss: 0.1370 - mse: 0.0238 - val_loss: 0.1279 - val_mse: 0.0209\n",
            "Epoch 4/100\n",
            "\u001b[1m235/235\u001b[0m \u001b[32m━━━━━━━━━━━━━━━━━━━━\u001b[0m\u001b[37m\u001b[0m \u001b[1m1s\u001b[0m 2ms/step - loss: 0.1269 - mse: 0.0205 - val_loss: 0.1216 - val_mse: 0.0189\n",
            "Epoch 5/100\n",
            "\u001b[1m235/235\u001b[0m \u001b[32m━━━━━━━━━━━━━━━━━━━━\u001b[0m\u001b[37m\u001b[0m \u001b[1m1s\u001b[0m 3ms/step - loss: 0.1212 - mse: 0.0187 - val_loss: 0.1183 - val_mse: 0.0179\n",
            "Epoch 6/100\n",
            "\u001b[1m235/235\u001b[0m \u001b[32m━━━━━━━━━━━━━━━━━━━━\u001b[0m\u001b[37m\u001b[0m \u001b[1m1s\u001b[0m 3ms/step - loss: 0.1177 - mse: 0.0176 - val_loss: 0.1157 - val_mse: 0.0171\n",
            "Epoch 7/100\n",
            "\u001b[1m235/235\u001b[0m \u001b[32m━━━━━━━━━━━━━━━━━━━━\u001b[0m\u001b[37m\u001b[0m \u001b[1m1s\u001b[0m 3ms/step - loss: 0.1152 - mse: 0.0168 - val_loss: 0.1141 - val_mse: 0.0165\n",
            "Epoch 8/100\n",
            "\u001b[1m235/235\u001b[0m \u001b[32m━━━━━━━━━━━━━━━━━━━━\u001b[0m\u001b[37m\u001b[0m \u001b[1m1s\u001b[0m 3ms/step - loss: 0.1138 - mse: 0.0163 - val_loss: 0.1131 - val_mse: 0.0162\n",
            "Epoch 9/100\n",
            "\u001b[1m235/235\u001b[0m \u001b[32m━━━━━━━━━━━━━━━━━━━━\u001b[0m\u001b[37m\u001b[0m \u001b[1m1s\u001b[0m 4ms/step - loss: 0.1125 - mse: 0.0159 - val_loss: 0.1123 - val_mse: 0.0159\n",
            "Epoch 10/100\n",
            "\u001b[1m235/235\u001b[0m \u001b[32m━━━━━━━━━━━━━━━━━━━━\u001b[0m\u001b[37m\u001b[0m \u001b[1m1s\u001b[0m 3ms/step - loss: 0.1115 - mse: 0.0156 - val_loss: 0.1116 - val_mse: 0.0157\n",
            "Epoch 11/100\n",
            "\u001b[1m235/235\u001b[0m \u001b[32m━━━━━━━━━━━━━━━━━━━━\u001b[0m\u001b[37m\u001b[0m \u001b[1m1s\u001b[0m 3ms/step - loss: 0.1109 - mse: 0.0154 - val_loss: 0.1109 - val_mse: 0.0154\n",
            "Epoch 12/100\n",
            "\u001b[1m235/235\u001b[0m \u001b[32m━━━━━━━━━━━━━━━━━━━━\u001b[0m\u001b[37m\u001b[0m \u001b[1m1s\u001b[0m 4ms/step - loss: 0.1102 - mse: 0.0152 - val_loss: 0.1105 - val_mse: 0.0153\n",
            "Epoch 13/100\n",
            "\u001b[1m235/235\u001b[0m \u001b[32m━━━━━━━━━━━━━━━━━━━━\u001b[0m\u001b[37m\u001b[0m \u001b[1m1s\u001b[0m 4ms/step - loss: 0.1093 - mse: 0.0149 - val_loss: 0.1103 - val_mse: 0.0153\n",
            "Epoch 14/100\n",
            "\u001b[1m235/235\u001b[0m \u001b[32m━━━━━━━━━━━━━━━━━━━━\u001b[0m\u001b[37m\u001b[0m \u001b[1m1s\u001b[0m 4ms/step - loss: 0.1091 - mse: 0.0148 - val_loss: 0.1099 - val_mse: 0.0152\n",
            "Epoch 15/100\n",
            "\u001b[1m235/235\u001b[0m \u001b[32m━━━━━━━━━━━━━━━━━━━━\u001b[0m\u001b[37m\u001b[0m \u001b[1m1s\u001b[0m 5ms/step - loss: 0.1088 - mse: 0.0147 - val_loss: 0.1095 - val_mse: 0.0150\n",
            "Epoch 16/100\n",
            "\u001b[1m235/235\u001b[0m \u001b[32m━━━━━━━━━━━━━━━━━━━━\u001b[0m\u001b[37m\u001b[0m \u001b[1m1s\u001b[0m 4ms/step - loss: 0.1084 - mse: 0.0146 - val_loss: 0.1093 - val_mse: 0.0150\n",
            "Epoch 17/100\n",
            "\u001b[1m235/235\u001b[0m \u001b[32m━━━━━━━━━━━━━━━━━━━━\u001b[0m\u001b[37m\u001b[0m \u001b[1m1s\u001b[0m 4ms/step - loss: 0.1080 - mse: 0.0145 - val_loss: 0.1087 - val_mse: 0.0147\n",
            "Epoch 18/100\n",
            "\u001b[1m235/235\u001b[0m \u001b[32m━━━━━━━━━━━━━━━━━━━━\u001b[0m\u001b[37m\u001b[0m \u001b[1m1s\u001b[0m 4ms/step - loss: 0.1076 - mse: 0.0144 - val_loss: 0.1085 - val_mse: 0.0147\n",
            "Epoch 19/100\n",
            "\u001b[1m235/235\u001b[0m \u001b[32m━━━━━━━━━━━━━━━━━━━━\u001b[0m\u001b[37m\u001b[0m \u001b[1m1s\u001b[0m 3ms/step - loss: 0.1073 - mse: 0.0142 - val_loss: 0.1084 - val_mse: 0.0147\n",
            "Epoch 20/100\n",
            "\u001b[1m235/235\u001b[0m \u001b[32m━━━━━━━━━━━━━━━━━━━━\u001b[0m\u001b[37m\u001b[0m \u001b[1m1s\u001b[0m 3ms/step - loss: 0.1070 - mse: 0.0142 - val_loss: 0.1081 - val_mse: 0.0146\n",
            "Epoch 21/100\n",
            "\u001b[1m235/235\u001b[0m \u001b[32m━━━━━━━━━━━━━━━━━━━━\u001b[0m\u001b[37m\u001b[0m \u001b[1m1s\u001b[0m 4ms/step - loss: 0.1067 - mse: 0.0141 - val_loss: 0.1078 - val_mse: 0.0145\n",
            "Epoch 22/100\n",
            "\u001b[1m235/235\u001b[0m \u001b[32m━━━━━━━━━━━━━━━━━━━━\u001b[0m\u001b[37m\u001b[0m \u001b[1m1s\u001b[0m 4ms/step - loss: 0.1065 - mse: 0.0140 - val_loss: 0.1076 - val_mse: 0.0145\n",
            "Epoch 23/100\n",
            "\u001b[1m235/235\u001b[0m \u001b[32m━━━━━━━━━━━━━━━━━━━━\u001b[0m\u001b[37m\u001b[0m \u001b[1m1s\u001b[0m 2ms/step - loss: 0.1063 - mse: 0.0139 - val_loss: 0.1075 - val_mse: 0.0144\n",
            "Epoch 24/100\n",
            "\u001b[1m235/235\u001b[0m \u001b[32m━━━━━━━━━━━━━━━━━━━━\u001b[0m\u001b[37m\u001b[0m \u001b[1m1s\u001b[0m 3ms/step - loss: 0.1060 - mse: 0.0139 - val_loss: 0.1073 - val_mse: 0.0143\n",
            "Epoch 25/100\n",
            "\u001b[1m235/235\u001b[0m \u001b[32m━━━━━━━━━━━━━━━━━━━━\u001b[0m\u001b[37m\u001b[0m \u001b[1m1s\u001b[0m 3ms/step - loss: 0.1058 - mse: 0.0138 - val_loss: 0.1071 - val_mse: 0.0143\n",
            "Epoch 26/100\n",
            "\u001b[1m235/235\u001b[0m \u001b[32m━━━━━━━━━━━━━━━━━━━━\u001b[0m\u001b[37m\u001b[0m \u001b[1m1s\u001b[0m 3ms/step - loss: 0.1055 - mse: 0.0137 - val_loss: 0.1070 - val_mse: 0.0142\n",
            "Epoch 27/100\n",
            "\u001b[1m235/235\u001b[0m \u001b[32m━━━━━━━━━━━━━━━━━━━━\u001b[0m\u001b[37m\u001b[0m \u001b[1m2s\u001b[0m 5ms/step - loss: 0.1056 - mse: 0.0137 - val_loss: 0.1070 - val_mse: 0.0142\n",
            "Epoch 28/100\n",
            "\u001b[1m235/235\u001b[0m \u001b[32m━━━━━━━━━━━━━━━━━━━━\u001b[0m\u001b[37m\u001b[0m \u001b[1m1s\u001b[0m 4ms/step - loss: 0.1053 - mse: 0.0137 - val_loss: 0.1068 - val_mse: 0.0142\n",
            "Epoch 29/100\n",
            "\u001b[1m235/235\u001b[0m \u001b[32m━━━━━━━━━━━━━━━━━━━━\u001b[0m\u001b[37m\u001b[0m \u001b[1m1s\u001b[0m 3ms/step - loss: 0.1053 - mse: 0.0137 - val_loss: 0.1073 - val_mse: 0.0144\n",
            "Epoch 30/100\n",
            "\u001b[1m235/235\u001b[0m \u001b[32m━━━━━━━━━━━━━━━━━━━━\u001b[0m\u001b[37m\u001b[0m \u001b[1m1s\u001b[0m 3ms/step - loss: 0.1049 - mse: 0.0136 - val_loss: 0.1066 - val_mse: 0.0141\n",
            "Epoch 31/100\n",
            "\u001b[1m235/235\u001b[0m \u001b[32m━━━━━━━━━━━━━━━━━━━━\u001b[0m\u001b[37m\u001b[0m \u001b[1m1s\u001b[0m 3ms/step - loss: 0.1050 - mse: 0.0136 - val_loss: 0.1065 - val_mse: 0.0141\n",
            "Epoch 32/100\n",
            "\u001b[1m235/235\u001b[0m \u001b[32m━━━━━━━━━━━━━━━━━━━━\u001b[0m\u001b[37m\u001b[0m \u001b[1m1s\u001b[0m 3ms/step - loss: 0.1048 - mse: 0.0135 - val_loss: 0.1065 - val_mse: 0.0141\n",
            "Epoch 33/100\n",
            "\u001b[1m235/235\u001b[0m \u001b[32m━━━━━━━━━━━━━━━━━━━━\u001b[0m\u001b[37m\u001b[0m \u001b[1m1s\u001b[0m 3ms/step - loss: 0.1050 - mse: 0.0136 - val_loss: 0.1065 - val_mse: 0.0141\n",
            "Epoch 34/100\n",
            "\u001b[1m235/235\u001b[0m \u001b[32m━━━━━━━━━━━━━━━━━━━━\u001b[0m\u001b[37m\u001b[0m \u001b[1m1s\u001b[0m 2ms/step - loss: 0.1047 - mse: 0.0135 - val_loss: 0.1066 - val_mse: 0.0141\n",
            "Epoch 35/100\n",
            "\u001b[1m235/235\u001b[0m \u001b[32m━━━━━━━━━━━━━━━━━━━━\u001b[0m\u001b[37m\u001b[0m \u001b[1m1s\u001b[0m 2ms/step - loss: 0.1048 - mse: 0.0135 - val_loss: 0.1064 - val_mse: 0.0141\n",
            "Epoch 36/100\n",
            "\u001b[1m235/235\u001b[0m \u001b[32m━━━━━━━━━━━━━━━━━━━━\u001b[0m\u001b[37m\u001b[0m \u001b[1m1s\u001b[0m 2ms/step - loss: 0.1045 - mse: 0.0135 - val_loss: 0.1066 - val_mse: 0.0142\n",
            "Epoch 37/100\n",
            "\u001b[1m235/235\u001b[0m \u001b[32m━━━━━━━━━━━━━━━━━━━━\u001b[0m\u001b[37m\u001b[0m \u001b[1m1s\u001b[0m 3ms/step - loss: 0.1045 - mse: 0.0135 - val_loss: 0.1063 - val_mse: 0.0141\n",
            "Epoch 38/100\n",
            "\u001b[1m235/235\u001b[0m \u001b[32m━━━━━━━━━━━━━━━━━━━━\u001b[0m\u001b[37m\u001b[0m \u001b[1m1s\u001b[0m 2ms/step - loss: 0.1045 - mse: 0.0135 - val_loss: 0.1064 - val_mse: 0.0141\n",
            "Epoch 39/100\n",
            "\u001b[1m235/235\u001b[0m \u001b[32m━━━━━━━━━━━━━━━━━━━━\u001b[0m\u001b[37m\u001b[0m \u001b[1m1s\u001b[0m 2ms/step - loss: 0.1045 - mse: 0.0134 - val_loss: 0.1064 - val_mse: 0.0141\n",
            "Epoch 40/100\n",
            "\u001b[1m235/235\u001b[0m \u001b[32m━━━━━━━━━━━━━━━━━━━━\u001b[0m\u001b[37m\u001b[0m \u001b[1m1s\u001b[0m 2ms/step - loss: 0.1043 - mse: 0.0134 - val_loss: 0.1062 - val_mse: 0.0140\n",
            "Epoch 41/100\n",
            "\u001b[1m235/235\u001b[0m \u001b[32m━━━━━━━━━━━━━━━━━━━━\u001b[0m\u001b[37m\u001b[0m \u001b[1m1s\u001b[0m 3ms/step - loss: 0.1046 - mse: 0.0135 - val_loss: 0.1063 - val_mse: 0.0141\n",
            "Epoch 42/100\n",
            "\u001b[1m235/235\u001b[0m \u001b[32m━━━━━━━━━━━━━━━━━━━━\u001b[0m\u001b[37m\u001b[0m \u001b[1m1s\u001b[0m 4ms/step - loss: 0.1044 - mse: 0.0134 - val_loss: 0.1063 - val_mse: 0.0140\n",
            "Epoch 43/100\n",
            "\u001b[1m235/235\u001b[0m \u001b[32m━━━━━━━━━━━━━━━━━━━━\u001b[0m\u001b[37m\u001b[0m \u001b[1m1s\u001b[0m 4ms/step - loss: 0.1044 - mse: 0.0134 - val_loss: 0.1062 - val_mse: 0.0140\n",
            "Epoch 44/100\n",
            "\u001b[1m235/235\u001b[0m \u001b[32m━━━━━━━━━━━━━━━━━━━━\u001b[0m\u001b[37m\u001b[0m \u001b[1m1s\u001b[0m 3ms/step - loss: 0.1043 - mse: 0.0134 - val_loss: 0.1061 - val_mse: 0.0140\n",
            "Epoch 45/100\n",
            "\u001b[1m235/235\u001b[0m \u001b[32m━━━━━━━━━━━━━━━━━━━━\u001b[0m\u001b[37m\u001b[0m \u001b[1m1s\u001b[0m 3ms/step - loss: 0.1043 - mse: 0.0134 - val_loss: 0.1062 - val_mse: 0.0140\n",
            "Epoch 46/100\n",
            "\u001b[1m235/235\u001b[0m \u001b[32m━━━━━━━━━━━━━━━━━━━━\u001b[0m\u001b[37m\u001b[0m \u001b[1m1s\u001b[0m 3ms/step - loss: 0.1042 - mse: 0.0134 - val_loss: 0.1062 - val_mse: 0.0140\n",
            "Epoch 47/100\n",
            "\u001b[1m235/235\u001b[0m \u001b[32m━━━━━━━━━━━━━━━━━━━━\u001b[0m\u001b[37m\u001b[0m \u001b[1m1s\u001b[0m 3ms/step - loss: 0.1044 - mse: 0.0134 - val_loss: 0.1062 - val_mse: 0.0140\n",
            "Epoch 48/100\n",
            "\u001b[1m235/235\u001b[0m \u001b[32m━━━━━━━━━━━━━━━━━━━━\u001b[0m\u001b[37m\u001b[0m \u001b[1m1s\u001b[0m 3ms/step - loss: 0.1040 - mse: 0.0133 - val_loss: 0.1064 - val_mse: 0.0141\n",
            "Epoch 49/100\n",
            "\u001b[1m235/235\u001b[0m \u001b[32m━━━━━━━━━━━━━━━━━━━━\u001b[0m\u001b[37m\u001b[0m \u001b[1m1s\u001b[0m 2ms/step - loss: 0.1043 - mse: 0.0134 - val_loss: 0.1063 - val_mse: 0.0141\n",
            "Epoch 50/100\n",
            "\u001b[1m235/235\u001b[0m \u001b[32m━━━━━━━━━━━━━━━━━━━━\u001b[0m\u001b[37m\u001b[0m \u001b[1m1s\u001b[0m 2ms/step - loss: 0.1041 - mse: 0.0133 - val_loss: 0.1061 - val_mse: 0.0140\n",
            "Epoch 51/100\n",
            "\u001b[1m235/235\u001b[0m \u001b[32m━━━━━━━━━━━━━━━━━━━━\u001b[0m\u001b[37m\u001b[0m \u001b[1m1s\u001b[0m 2ms/step - loss: 0.1041 - mse: 0.0133 - val_loss: 0.1062 - val_mse: 0.0140\n",
            "Epoch 52/100\n",
            "\u001b[1m235/235\u001b[0m \u001b[32m━━━━━━━━━━━━━━━━━━━━\u001b[0m\u001b[37m\u001b[0m \u001b[1m1s\u001b[0m 2ms/step - loss: 0.1042 - mse: 0.0134 - val_loss: 0.1061 - val_mse: 0.0140\n",
            "Epoch 53/100\n",
            "\u001b[1m235/235\u001b[0m \u001b[32m━━━━━━━━━━━━━━━━━━━━\u001b[0m\u001b[37m\u001b[0m \u001b[1m1s\u001b[0m 3ms/step - loss: 0.1041 - mse: 0.0133 - val_loss: 0.1061 - val_mse: 0.0140\n",
            "Epoch 54/100\n",
            "\u001b[1m235/235\u001b[0m \u001b[32m━━━━━━━━━━━━━━━━━━━━\u001b[0m\u001b[37m\u001b[0m \u001b[1m1s\u001b[0m 2ms/step - loss: 0.1040 - mse: 0.0133 - val_loss: 0.1062 - val_mse: 0.0140\n",
            "Epoch 55/100\n",
            "\u001b[1m235/235\u001b[0m \u001b[32m━━━━━━━━━━━━━━━━━━━━\u001b[0m\u001b[37m\u001b[0m \u001b[1m1s\u001b[0m 3ms/step - loss: 0.1041 - mse: 0.0133 - val_loss: 0.1061 - val_mse: 0.0140\n",
            "Epoch 56/100\n",
            "\u001b[1m235/235\u001b[0m \u001b[32m━━━━━━━━━━━━━━━━━━━━\u001b[0m\u001b[37m\u001b[0m \u001b[1m1s\u001b[0m 3ms/step - loss: 0.1039 - mse: 0.0133 - val_loss: 0.1061 - val_mse: 0.0140\n",
            "Epoch 57/100\n",
            "\u001b[1m235/235\u001b[0m \u001b[32m━━━━━━━━━━━━━━━━━━━━\u001b[0m\u001b[37m\u001b[0m \u001b[1m1s\u001b[0m 4ms/step - loss: 0.1041 - mse: 0.0133 - val_loss: 0.1062 - val_mse: 0.0140\n",
            "Epoch 58/100\n",
            "\u001b[1m235/235\u001b[0m \u001b[32m━━━━━━━━━━━━━━━━━━━━\u001b[0m\u001b[37m\u001b[0m \u001b[1m1s\u001b[0m 2ms/step - loss: 0.1038 - mse: 0.0133 - val_loss: 0.1062 - val_mse: 0.0140\n",
            "Epoch 59/100\n",
            "\u001b[1m235/235\u001b[0m \u001b[32m━━━━━━━━━━━━━━━━━━━━\u001b[0m\u001b[37m\u001b[0m \u001b[1m1s\u001b[0m 2ms/step - loss: 0.1040 - mse: 0.0133 - val_loss: 0.1062 - val_mse: 0.0140\n",
            "Epoch 60/100\n",
            "\u001b[1m235/235\u001b[0m \u001b[32m━━━━━━━━━━━━━━━━━━━━\u001b[0m\u001b[37m\u001b[0m \u001b[1m1s\u001b[0m 2ms/step - loss: 0.1040 - mse: 0.0133 - val_loss: 0.1061 - val_mse: 0.0140\n",
            "Epoch 61/100\n",
            "\u001b[1m235/235\u001b[0m \u001b[32m━━━━━━━━━━━━━━━━━━━━\u001b[0m\u001b[37m\u001b[0m \u001b[1m1s\u001b[0m 2ms/step - loss: 0.1040 - mse: 0.0133 - val_loss: 0.1062 - val_mse: 0.0140\n",
            "Epoch 62/100\n",
            "\u001b[1m235/235\u001b[0m \u001b[32m━━━━━━━━━━━━━━━━━━━━\u001b[0m\u001b[37m\u001b[0m \u001b[1m1s\u001b[0m 3ms/step - loss: 0.1038 - mse: 0.0133 - val_loss: 0.1062 - val_mse: 0.0140\n",
            "Epoch 63/100\n",
            "\u001b[1m235/235\u001b[0m \u001b[32m━━━━━━━━━━━━━━━━━━━━\u001b[0m\u001b[37m\u001b[0m \u001b[1m1s\u001b[0m 2ms/step - loss: 0.1038 - mse: 0.0133 - val_loss: 0.1061 - val_mse: 0.0140\n",
            "Epoch 64/100\n",
            "\u001b[1m235/235\u001b[0m \u001b[32m━━━━━━━━━━━━━━━━━━━━\u001b[0m\u001b[37m\u001b[0m \u001b[1m1s\u001b[0m 3ms/step - loss: 0.1037 - mse: 0.0133 - val_loss: 0.1063 - val_mse: 0.0141\n",
            "Epoch 65/100\n",
            "\u001b[1m235/235\u001b[0m \u001b[32m━━━━━━━━━━━━━━━━━━━━\u001b[0m\u001b[37m\u001b[0m \u001b[1m1s\u001b[0m 2ms/step - loss: 0.1040 - mse: 0.0133 - val_loss: 0.1061 - val_mse: 0.0139\n",
            "Epoch 66/100\n",
            "\u001b[1m235/235\u001b[0m \u001b[32m━━━━━━━━━━━━━━━━━━━━\u001b[0m\u001b[37m\u001b[0m \u001b[1m1s\u001b[0m 2ms/step - loss: 0.1037 - mse: 0.0132 - val_loss: 0.1060 - val_mse: 0.0139\n",
            "Epoch 67/100\n",
            "\u001b[1m235/235\u001b[0m \u001b[32m━━━━━━━━━━━━━━━━━━━━\u001b[0m\u001b[37m\u001b[0m \u001b[1m1s\u001b[0m 2ms/step - loss: 0.1038 - mse: 0.0133 - val_loss: 0.1060 - val_mse: 0.0139\n",
            "Epoch 68/100\n",
            "\u001b[1m235/235\u001b[0m \u001b[32m━━━━━━━━━━━━━━━━━━━━\u001b[0m\u001b[37m\u001b[0m \u001b[1m1s\u001b[0m 2ms/step - loss: 0.1039 - mse: 0.0133 - val_loss: 0.1060 - val_mse: 0.0139\n",
            "Epoch 69/100\n",
            "\u001b[1m235/235\u001b[0m \u001b[32m━━━━━━━━━━━━━━━━━━━━\u001b[0m\u001b[37m\u001b[0m \u001b[1m1s\u001b[0m 2ms/step - loss: 0.1037 - mse: 0.0132 - val_loss: 0.1060 - val_mse: 0.0139\n",
            "Epoch 70/100\n",
            "\u001b[1m235/235\u001b[0m \u001b[32m━━━━━━━━━━━━━━━━━━━━\u001b[0m\u001b[37m\u001b[0m \u001b[1m1s\u001b[0m 3ms/step - loss: 0.1035 - mse: 0.0132 - val_loss: 0.1060 - val_mse: 0.0139\n",
            "Epoch 71/100\n",
            "\u001b[1m235/235\u001b[0m \u001b[32m━━━━━━━━━━━━━━━━━━━━\u001b[0m\u001b[37m\u001b[0m \u001b[1m1s\u001b[0m 2ms/step - loss: 0.1039 - mse: 0.0133 - val_loss: 0.1060 - val_mse: 0.0139\n",
            "Epoch 72/100\n",
            "\u001b[1m235/235\u001b[0m \u001b[32m━━━━━━━━━━━━━━━━━━━━\u001b[0m\u001b[37m\u001b[0m \u001b[1m1s\u001b[0m 3ms/step - loss: 0.1037 - mse: 0.0132 - val_loss: 0.1061 - val_mse: 0.0141\n",
            "Epoch 73/100\n",
            "\u001b[1m235/235\u001b[0m \u001b[32m━━━━━━━━━━━━━━━━━━━━\u001b[0m\u001b[37m\u001b[0m \u001b[1m1s\u001b[0m 3ms/step - loss: 0.1039 - mse: 0.0133 - val_loss: 0.1061 - val_mse: 0.0140\n",
            "Epoch 74/100\n",
            "\u001b[1m235/235\u001b[0m \u001b[32m━━━━━━━━━━━━━━━━━━━━\u001b[0m\u001b[37m\u001b[0m \u001b[1m1s\u001b[0m 4ms/step - loss: 0.1036 - mse: 0.0132 - val_loss: 0.1061 - val_mse: 0.0141\n",
            "Epoch 75/100\n",
            "\u001b[1m235/235\u001b[0m \u001b[32m━━━━━━━━━━━━━━━━━━━━\u001b[0m\u001b[37m\u001b[0m \u001b[1m1s\u001b[0m 3ms/step - loss: 0.1035 - mse: 0.0132 - val_loss: 0.1058 - val_mse: 0.0139\n",
            "Epoch 76/100\n",
            "\u001b[1m235/235\u001b[0m \u001b[32m━━━━━━━━━━━━━━━━━━━━\u001b[0m\u001b[37m\u001b[0m \u001b[1m1s\u001b[0m 2ms/step - loss: 0.1035 - mse: 0.0132 - val_loss: 0.1059 - val_mse: 0.0139\n",
            "Epoch 77/100\n",
            "\u001b[1m235/235\u001b[0m \u001b[32m━━━━━━━━━━━━━━━━━━━━\u001b[0m\u001b[37m\u001b[0m \u001b[1m1s\u001b[0m 2ms/step - loss: 0.1035 - mse: 0.0132 - val_loss: 0.1059 - val_mse: 0.0139\n",
            "Epoch 78/100\n",
            "\u001b[1m235/235\u001b[0m \u001b[32m━━━━━━━━━━━━━━━━━━━━\u001b[0m\u001b[37m\u001b[0m \u001b[1m1s\u001b[0m 3ms/step - loss: 0.1037 - mse: 0.0132 - val_loss: 0.1058 - val_mse: 0.0139\n",
            "Epoch 79/100\n",
            "\u001b[1m235/235\u001b[0m \u001b[32m━━━━━━━━━━━━━━━━━━━━\u001b[0m\u001b[37m\u001b[0m \u001b[1m1s\u001b[0m 2ms/step - loss: 0.1036 - mse: 0.0132 - val_loss: 0.1059 - val_mse: 0.0139\n",
            "Epoch 80/100\n",
            "\u001b[1m235/235\u001b[0m \u001b[32m━━━━━━━━━━━━━━━━━━━━\u001b[0m\u001b[37m\u001b[0m \u001b[1m1s\u001b[0m 2ms/step - loss: 0.1034 - mse: 0.0132 - val_loss: 0.1059 - val_mse: 0.0139\n",
            "Epoch 81/100\n",
            "\u001b[1m235/235\u001b[0m \u001b[32m━━━━━━━━━━━━━━━━━━━━\u001b[0m\u001b[37m\u001b[0m \u001b[1m1s\u001b[0m 2ms/step - loss: 0.1036 - mse: 0.0132 - val_loss: 0.1060 - val_mse: 0.0140\n",
            "Epoch 82/100\n",
            "\u001b[1m235/235\u001b[0m \u001b[32m━━━━━━━━━━━━━━━━━━━━\u001b[0m\u001b[37m\u001b[0m \u001b[1m1s\u001b[0m 3ms/step - loss: 0.1036 - mse: 0.0132 - val_loss: 0.1059 - val_mse: 0.0140\n",
            "Epoch 83/100\n",
            "\u001b[1m235/235\u001b[0m \u001b[32m━━━━━━━━━━━━━━━━━━━━\u001b[0m\u001b[37m\u001b[0m \u001b[1m1s\u001b[0m 2ms/step - loss: 0.1036 - mse: 0.0132 - val_loss: 0.1058 - val_mse: 0.0139\n",
            "Epoch 84/100\n",
            "\u001b[1m235/235\u001b[0m \u001b[32m━━━━━━━━━━━━━━━━━━━━\u001b[0m\u001b[37m\u001b[0m \u001b[1m1s\u001b[0m 2ms/step - loss: 0.1034 - mse: 0.0132 - val_loss: 0.1058 - val_mse: 0.0139\n",
            "Epoch 85/100\n",
            "\u001b[1m235/235\u001b[0m \u001b[32m━━━━━━━━━━━━━━━━━━━━\u001b[0m\u001b[37m\u001b[0m \u001b[1m1s\u001b[0m 3ms/step - loss: 0.1033 - mse: 0.0131 - val_loss: 0.1057 - val_mse: 0.0138\n",
            "Epoch 86/100\n",
            "\u001b[1m235/235\u001b[0m \u001b[32m━━━━━━━━━━━━━━━━━━━━\u001b[0m\u001b[37m\u001b[0m \u001b[1m1s\u001b[0m 3ms/step - loss: 0.1033 - mse: 0.0131 - val_loss: 0.1059 - val_mse: 0.0140\n",
            "Epoch 87/100\n",
            "\u001b[1m235/235\u001b[0m \u001b[32m━━━━━━━━━━━━━━━━━━━━\u001b[0m\u001b[37m\u001b[0m \u001b[1m1s\u001b[0m 2ms/step - loss: 0.1033 - mse: 0.0131 - val_loss: 0.1059 - val_mse: 0.0139\n",
            "Epoch 88/100\n",
            "\u001b[1m235/235\u001b[0m \u001b[32m━━━━━━━━━━━━━━━━━━━━\u001b[0m\u001b[37m\u001b[0m \u001b[1m1s\u001b[0m 2ms/step - loss: 0.1035 - mse: 0.0132 - val_loss: 0.1058 - val_mse: 0.0139\n",
            "Epoch 89/100\n",
            "\u001b[1m235/235\u001b[0m \u001b[32m━━━━━━━━━━━━━━━━━━━━\u001b[0m\u001b[37m\u001b[0m \u001b[1m1s\u001b[0m 2ms/step - loss: 0.1035 - mse: 0.0132 - val_loss: 0.1057 - val_mse: 0.0139\n",
            "Epoch 90/100\n",
            "\u001b[1m235/235\u001b[0m \u001b[32m━━━━━━━━━━━━━━━━━━━━\u001b[0m\u001b[37m\u001b[0m \u001b[1m1s\u001b[0m 3ms/step - loss: 0.1032 - mse: 0.0131 - val_loss: 0.1060 - val_mse: 0.0141\n",
            "Epoch 91/100\n",
            "\u001b[1m235/235\u001b[0m \u001b[32m━━━━━━━━━━━━━━━━━━━━\u001b[0m\u001b[37m\u001b[0m \u001b[1m2s\u001b[0m 6ms/step - loss: 0.1034 - mse: 0.0132 - val_loss: 0.1058 - val_mse: 0.0139\n",
            "Epoch 92/100\n",
            "\u001b[1m235/235\u001b[0m \u001b[32m━━━━━━━━━━━━━━━━━━━━\u001b[0m\u001b[37m\u001b[0m \u001b[1m2s\u001b[0m 3ms/step - loss: 0.1031 - mse: 0.0131 - val_loss: 0.1056 - val_mse: 0.0139\n",
            "Epoch 93/100\n",
            "\u001b[1m235/235\u001b[0m \u001b[32m━━━━━━━━━━━━━━━━━━━━\u001b[0m\u001b[37m\u001b[0m \u001b[1m1s\u001b[0m 3ms/step - loss: 0.1032 - mse: 0.0131 - val_loss: 0.1057 - val_mse: 0.0139\n",
            "Epoch 94/100\n",
            "\u001b[1m235/235\u001b[0m \u001b[32m━━━━━━━━━━━━━━━━━━━━\u001b[0m\u001b[37m\u001b[0m \u001b[1m1s\u001b[0m 3ms/step - loss: 0.1032 - mse: 0.0131 - val_loss: 0.1056 - val_mse: 0.0139\n",
            "Epoch 95/100\n",
            "\u001b[1m235/235\u001b[0m \u001b[32m━━━━━━━━━━━━━━━━━━━━\u001b[0m\u001b[37m\u001b[0m \u001b[1m1s\u001b[0m 2ms/step - loss: 0.1032 - mse: 0.0131 - val_loss: 0.1056 - val_mse: 0.0138\n",
            "Epoch 96/100\n",
            "\u001b[1m235/235\u001b[0m \u001b[32m━━━━━━━━━━━━━━━━━━━━\u001b[0m\u001b[37m\u001b[0m \u001b[1m1s\u001b[0m 3ms/step - loss: 0.1031 - mse: 0.0131 - val_loss: 0.1057 - val_mse: 0.0139\n",
            "Epoch 97/100\n",
            "\u001b[1m235/235\u001b[0m \u001b[32m━━━━━━━━━━━━━━━━━━━━\u001b[0m\u001b[37m\u001b[0m \u001b[1m1s\u001b[0m 3ms/step - loss: 0.1030 - mse: 0.0131 - val_loss: 0.1057 - val_mse: 0.0139\n",
            "Epoch 98/100\n",
            "\u001b[1m235/235\u001b[0m \u001b[32m━━━━━━━━━━━━━━━━━━━━\u001b[0m\u001b[37m\u001b[0m \u001b[1m1s\u001b[0m 3ms/step - loss: 0.1030 - mse: 0.0131 - val_loss: 0.1056 - val_mse: 0.0139\n",
            "Epoch 99/100\n",
            "\u001b[1m235/235\u001b[0m \u001b[32m━━━━━━━━━━━━━━━━━━━━\u001b[0m\u001b[37m\u001b[0m \u001b[1m1s\u001b[0m 3ms/step - loss: 0.1031 - mse: 0.0131 - val_loss: 0.1056 - val_mse: 0.0138\n",
            "Epoch 100/100\n",
            "\u001b[1m235/235\u001b[0m \u001b[32m━━━━━━━━━━━━━━━━━━━━\u001b[0m\u001b[37m\u001b[0m \u001b[1m1s\u001b[0m 2ms/step - loss: 0.1032 - mse: 0.0131 - val_loss: 0.1056 - val_mse: 0.0139\n"
          ]
        }
      ]
    },
    {
      "cell_type": "markdown",
      "source": [
        "# 預測與驗證其正確性"
      ],
      "metadata": {
        "id": "9LVRFwi4cVdz"
      }
    },
    {
      "cell_type": "markdown",
      "source": [
        "## 使用 Autoencoder 重構無雜訊圖像"
      ],
      "metadata": {
        "id": "fnQPyg1xcbKo"
      }
    },
    {
      "cell_type": "code",
      "source": [
        "decoded_imgs = autoencoder.predict(X_test_noisy)"
      ],
      "metadata": {
        "colab": {
          "base_uri": "https://localhost:8080/"
        },
        "id": "m6ffIcYkcgfU",
        "outputId": "e606f065-ed48-427a-e7c1-a21f4eec2a5c"
      },
      "execution_count": null,
      "outputs": [
        {
          "output_type": "stream",
          "name": "stdout",
          "text": [
            "\u001b[1m313/313\u001b[0m \u001b[32m━━━━━━━━━━━━━━━━━━━━\u001b[0m\u001b[37m\u001b[0m \u001b[1m1s\u001b[0m 1ms/step\n"
          ]
        }
      ]
    },
    {
      "cell_type": "markdown",
      "source": [
        "# 顯示前十個圖片以驗證正確性"
      ],
      "metadata": {
        "id": "TIIjO5EsczQ4"
      }
    },
    {
      "cell_type": "code",
      "source": [
        "n = 10  # 顯示幾張圖片\n",
        "plt.figure(figsize=(20, 4)) # 建立寬度為 20 英寸、高度為 4 英寸的繪圖窗口\n",
        "for i in range(n):\n",
        "    # 帶噪聲的輸入圖像\n",
        "    ax = plt.subplot(3, n, i + 1)\n",
        "    plt.imshow(X_test_noisy[i].reshape(28, 28))\n",
        "    plt.gray()  # 確保待會兒 plt.show() 時，圖像以灰階顯示\n",
        "    ax.get_xaxis().set_visible(False)\n",
        "    ax.get_yaxis().set_visible(False)\n",
        "\n",
        "    # 原始圖像\n",
        "    ax = plt.subplot(3, n, i + n + 1)\n",
        "    plt.imshow(X_test[i].reshape(28, 28))\n",
        "    plt.gray()  # 確保待會兒 plt.show() 時，圖像以灰階顯示\n",
        "    ax.get_xaxis().set_visible(False)\n",
        "    ax.get_yaxis().set_visible(False)\n",
        "\n",
        "    # 重構圖像\n",
        "    ax = plt.subplot(3, n, i + 2 * n + 1)\n",
        "    plt.imshow(decoded_imgs[i].reshape(28, 28))\n",
        "    plt.gray()  # 確保待會兒 plt.show() 時，圖像以灰階顯示\n",
        "    ax.get_xaxis().set_visible(False)\n",
        "    ax.get_yaxis().set_visible(False)\n",
        "plt.show()"
      ],
      "metadata": {
        "colab": {
          "base_uri": "https://localhost:8080/",
          "height": 365
        },
        "id": "Isz2gMfHc59V",
        "outputId": "4631dd00-66cc-4164-d12f-e9d9d1d9d6fc"
      },
      "execution_count": null,
      "outputs": [
        {
          "output_type": "display_data",
          "data": {
            "text/plain": [
              "<Figure size 2000x400 with 30 Axes>"
            ],
            "image/png": "[encoded data removed]"
          },
          "metadata": {}
        }
      ]
    }
  ]
}