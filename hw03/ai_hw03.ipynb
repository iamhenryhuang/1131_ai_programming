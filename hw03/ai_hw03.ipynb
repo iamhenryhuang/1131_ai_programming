{
  "nbformat": 4,
  "nbformat_minor": 0,
  "metadata": {
    "colab": {
      "provenance": [],
      "gpuType": "T4"
    },
    "kernelspec": {
      "name": "python3",
      "display_name": "Python 3"
    },
    "language_info": {
      "name": "python"
    },
    "accelerator": "GPU"
  },
  "cells": [
    {
      "cell_type": "markdown",
      "source": [
        "載入 HappyML 函式庫"
      ],
      "metadata": {
        "id": "Ir0EZ0r8aKDk"
      }
    },
    {
      "cell_type": "code",
      "execution_count": 2,
      "metadata": {
        "id": "fcRdNpZ-Zaya"
      },
      "outputs": [],
      "source": [
        "import os\n",
        "\n",
        "if not os.path.isdir(\"HappyML\"):\n",
        "  os.system(\"git clone https://github.com/cnchi/HappyML.git\")"
      ]
    },
    {
      "cell_type": "markdown",
      "source": [
        "透過 GitHub，下載資料集 .CSV 檔案"
      ],
      "metadata": {
        "id": "odHl6PtAaW8F"
      }
    },
    {
      "cell_type": "code",
      "source": [
        "Dataset_File = \"ToyotaUsedCars.csv\"\n",
        "if not os.path.isfile(Dataset_File):\n",
        "  os.system(\"wget https://raw.githubusercontent.com/cnchi/datasets/master/\" + Dataset_File)"
      ],
      "metadata": {
        "id": "RTprDzv8aTlN"
      },
      "execution_count": 3,
      "outputs": []
    },
    {
      "cell_type": "markdown",
      "source": [
        "資料集載入"
      ],
      "metadata": {
        "id": "Ht0xxml3bNz1"
      }
    },
    {
      "cell_type": "code",
      "source": [
        "import HappyML.preprocessor as pp\n",
        "dataset = pp.dataset(file=Dataset_File)"
      ],
      "metadata": {
        "id": "LjSaXTx8bNRW"
      },
      "execution_count": 4,
      "outputs": []
    },
    {
      "cell_type": "markdown",
      "source": [
        "切分自變數 X 與 應變數 Y"
      ],
      "metadata": {
        "id": "3EHfwdOBb16z"
      }
    },
    {
      "cell_type": "code",
      "source": [
        "X, Y = pp.decomposition(dataset=dataset, x_columns=[i for i in range(8)], y_columns=[8])"
      ],
      "metadata": {
        "id": "p61wzVeYbwIX"
      },
      "execution_count": 13,
      "outputs": []
    },
    {
      "cell_type": "markdown",
      "source": [
        "類別資料數位化"
      ],
      "metadata": {
        "id": "JvzS2ntEcTYH"
      }
    },
    {
      "cell_type": "code",
      "source": [
        "X = pp.onehot_encoder(X, columns=[0, 2, 4], remove_trap=True)"
      ],
      "metadata": {
        "id": "bDvhPww9cVMJ"
      },
      "execution_count": 14,
      "outputs": []
    },
    {
      "cell_type": "markdown",
      "source": [
        "切分 訓練集 跟 測試集"
      ],
      "metadata": {
        "id": "ztq04sZMdQCt"
      }
    },
    {
      "cell_type": "code",
      "source": [
        "X_train, X_test, Y_train, Y_test = pp.split_train_test(X, Y, train_size=0.8)"
      ],
      "metadata": {
        "id": "HC54-DdldDOQ"
      },
      "execution_count": 16,
      "outputs": []
    },
    {
      "cell_type": "markdown",
      "source": [
        "特徵縮放"
      ],
      "metadata": {
        "id": "zpuLT46ydmzY"
      }
    },
    {
      "cell_type": "code",
      "source": [
        "X_train, X_test = pp.feature_scaling(fit_ary=X_train, transform_arys=(X_train, X_test))"
      ],
      "metadata": {
        "id": "lqkEn8TzdoXM"
      },
      "execution_count": 17,
      "outputs": []
    },
    {
      "cell_type": "markdown",
      "source": [
        "建構神經網路各層級"
      ],
      "metadata": {
        "id": "h6NzZLt3epvc"
      }
    },
    {
      "cell_type": "code",
      "source": [
        "from tensorflow.keras.models import Sequential\n",
        "from tensorflow.keras.layers import Dense, Input\n",
        "\n",
        "# Add Layers with .add() function\n",
        "model = Sequential()\n",
        "\n",
        "# Using Formula #2, Instance=20640, alpha=5\n",
        "model.add(Input(shape=(X_train.shape[1], )))\n",
        "model.add(Dense(units=459, kernel_initializer=\"glorot_normal\", activation=\"relu\"))\n",
        "model.add(Dense(units=9, kernel_initializer=\"glorot_normal\", activation=\"relu\"))\n",
        "model.add(Dense(units=1, kernel_initializer=\"glorot_normal\", activation=\"linear\"))"
      ],
      "metadata": {
        "id": "ebc6M5TaewRq"
      },
      "execution_count": 18,
      "outputs": []
    },
    {
      "cell_type": "markdown",
      "source": [
        "神經網路模型編譯"
      ],
      "metadata": {
        "id": "_634w128e6xL"
      }
    },
    {
      "cell_type": "code",
      "source": [
        "# Compile the whole Neural Networks\n",
        "model.compile(optimizer=\"adam\", loss=\"mse\", metrics=[\"mse\"])"
      ],
      "metadata": {
        "id": "_mfpqpGre5k4"
      },
      "execution_count": 20,
      "outputs": []
    },
    {
      "cell_type": "markdown",
      "source": [
        "神經網路模型訓練"
      ],
      "metadata": {
        "id": "-cn3i8hBe_4T"
      }
    },
    {
      "cell_type": "code",
      "source": [
        "# Training (Fit)\n",
        "epochs_metrics = model.fit(x=X_train, y=Y_train, validation_split=0.2, batch_size=5, epochs=50)"
      ],
      "metadata": {
        "colab": {
          "base_uri": "https://localhost:8080/"
        },
        "id": "qRnQYUpYfeFW",
        "outputId": "9a404f92-81fc-4906-c7ab-b059567ae968"
      },
      "execution_count": 21,
      "outputs": [
        {
          "output_type": "stream",
          "name": "stdout",
          "text": [
            "Epoch 1/50\n",
            "\u001b[1m863/863\u001b[0m \u001b[32m━━━━━━━━━━━━━━━━━━━━\u001b[0m\u001b[37m\u001b[0m \u001b[1m5s\u001b[0m 3ms/step - loss: 181241232.0000 - mse: 181241232.0000 - val_loss: 44006400.0000 - val_mse: 44006400.0000\n",
            "Epoch 2/50\n",
            "\u001b[1m863/863\u001b[0m \u001b[32m━━━━━━━━━━━━━━━━━━━━\u001b[0m\u001b[37m\u001b[0m \u001b[1m3s\u001b[0m 3ms/step - loss: 19706998.0000 - mse: 19706998.0000 - val_loss: 15022252.0000 - val_mse: 15022252.0000\n",
            "Epoch 3/50\n",
            "\u001b[1m863/863\u001b[0m \u001b[32m━━━━━━━━━━━━━━━━━━━━\u001b[0m\u001b[37m\u001b[0m \u001b[1m2s\u001b[0m 2ms/step - loss: 8975870.0000 - mse: 8975870.0000 - val_loss: 12734531.0000 - val_mse: 12734531.0000\n",
            "Epoch 4/50\n",
            "\u001b[1m863/863\u001b[0m \u001b[32m━━━━━━━━━━━━━━━━━━━━\u001b[0m\u001b[37m\u001b[0m \u001b[1m3s\u001b[0m 2ms/step - loss: 6655757.0000 - mse: 6655757.0000 - val_loss: 11613524.0000 - val_mse: 11613524.0000\n",
            "Epoch 5/50\n",
            "\u001b[1m863/863\u001b[0m \u001b[32m━━━━━━━━━━━━━━━━━━━━\u001b[0m\u001b[37m\u001b[0m \u001b[1m2s\u001b[0m 2ms/step - loss: 5349032.0000 - mse: 5349032.0000 - val_loss: 10712000.0000 - val_mse: 10712000.0000\n",
            "Epoch 6/50\n",
            "\u001b[1m863/863\u001b[0m \u001b[32m━━━━━━━━━━━━━━━━━━━━\u001b[0m\u001b[37m\u001b[0m \u001b[1m3s\u001b[0m 2ms/step - loss: 4641158.5000 - mse: 4641158.5000 - val_loss: 9893912.0000 - val_mse: 9893912.0000\n",
            "Epoch 7/50\n",
            "\u001b[1m863/863\u001b[0m \u001b[32m━━━━━━━━━━━━━━━━━━━━\u001b[0m\u001b[37m\u001b[0m \u001b[1m2s\u001b[0m 2ms/step - loss: 3308915.7500 - mse: 3308915.7500 - val_loss: 9094211.0000 - val_mse: 9094211.0000\n",
            "Epoch 8/50\n",
            "\u001b[1m863/863\u001b[0m \u001b[32m━━━━━━━━━━━━━━━━━━━━\u001b[0m\u001b[37m\u001b[0m \u001b[1m3s\u001b[0m 2ms/step - loss: 2929344.2500 - mse: 2929344.2500 - val_loss: 8468491.0000 - val_mse: 8468491.0000\n",
            "Epoch 9/50\n",
            "\u001b[1m863/863\u001b[0m \u001b[32m━━━━━━━━━━━━━━━━━━━━\u001b[0m\u001b[37m\u001b[0m \u001b[1m2s\u001b[0m 2ms/step - loss: 3310763.0000 - mse: 3310763.0000 - val_loss: 7604902.5000 - val_mse: 7604902.5000\n",
            "Epoch 10/50\n",
            "\u001b[1m863/863\u001b[0m \u001b[32m━━━━━━━━━━━━━━━━━━━━\u001b[0m\u001b[37m\u001b[0m \u001b[1m3s\u001b[0m 2ms/step - loss: 3414787.0000 - mse: 3414787.0000 - val_loss: 7030643.5000 - val_mse: 7030643.5000\n",
            "Epoch 11/50\n",
            "\u001b[1m863/863\u001b[0m \u001b[32m━━━━━━━━━━━━━━━━━━━━\u001b[0m\u001b[37m\u001b[0m \u001b[1m3s\u001b[0m 2ms/step - loss: 2954758.5000 - mse: 2954758.5000 - val_loss: 6184992.5000 - val_mse: 6184992.5000\n",
            "Epoch 12/50\n",
            "\u001b[1m863/863\u001b[0m \u001b[32m━━━━━━━━━━━━━━━━━━━━\u001b[0m\u001b[37m\u001b[0m \u001b[1m2s\u001b[0m 2ms/step - loss: 2939702.0000 - mse: 2939702.0000 - val_loss: 5565926.0000 - val_mse: 5565926.0000\n",
            "Epoch 13/50\n",
            "\u001b[1m863/863\u001b[0m \u001b[32m━━━━━━━━━━━━━━━━━━━━\u001b[0m\u001b[37m\u001b[0m \u001b[1m2s\u001b[0m 3ms/step - loss: 2052288.8750 - mse: 2052288.8750 - val_loss: 4899392.5000 - val_mse: 4899392.5000\n",
            "Epoch 14/50\n",
            "\u001b[1m863/863\u001b[0m \u001b[32m━━━━━━━━━━━━━━━━━━━━\u001b[0m\u001b[37m\u001b[0m \u001b[1m3s\u001b[0m 3ms/step - loss: 2678013.2500 - mse: 2678013.2500 - val_loss: 4501555.5000 - val_mse: 4501555.5000\n",
            "Epoch 15/50\n",
            "\u001b[1m863/863\u001b[0m \u001b[32m━━━━━━━━━━━━━━━━━━━━\u001b[0m\u001b[37m\u001b[0m \u001b[1m2s\u001b[0m 2ms/step - loss: 2200050.2500 - mse: 2200050.2500 - val_loss: 3871839.2500 - val_mse: 3871839.2500\n",
            "Epoch 16/50\n",
            "\u001b[1m863/863\u001b[0m \u001b[32m━━━━━━━━━━━━━━━━━━━━\u001b[0m\u001b[37m\u001b[0m \u001b[1m2s\u001b[0m 2ms/step - loss: 2294001.0000 - mse: 2294001.0000 - val_loss: 3489750.7500 - val_mse: 3489750.7500\n",
            "Epoch 17/50\n",
            "\u001b[1m863/863\u001b[0m \u001b[32m━━━━━━━━━━━━━━━━━━━━\u001b[0m\u001b[37m\u001b[0m \u001b[1m2s\u001b[0m 2ms/step - loss: 2322511.0000 - mse: 2322511.0000 - val_loss: 3114164.7500 - val_mse: 3114164.7500\n",
            "Epoch 18/50\n",
            "\u001b[1m863/863\u001b[0m \u001b[32m━━━━━━━━━━━━━━━━━━━━\u001b[0m\u001b[37m\u001b[0m \u001b[1m2s\u001b[0m 2ms/step - loss: 1813753.6250 - mse: 1813753.6250 - val_loss: 2868156.7500 - val_mse: 2868156.7500\n",
            "Epoch 19/50\n",
            "\u001b[1m863/863\u001b[0m \u001b[32m━━━━━━━━━━━━━━━━━━━━\u001b[0m\u001b[37m\u001b[0m \u001b[1m3s\u001b[0m 3ms/step - loss: 2065397.7500 - mse: 2065397.7500 - val_loss: 2627727.0000 - val_mse: 2627727.0000\n",
            "Epoch 20/50\n",
            "\u001b[1m863/863\u001b[0m \u001b[32m━━━━━━━━━━━━━━━━━━━━\u001b[0m\u001b[37m\u001b[0m \u001b[1m2s\u001b[0m 2ms/step - loss: 1975684.5000 - mse: 1975684.5000 - val_loss: 2471168.0000 - val_mse: 2471168.0000\n",
            "Epoch 21/50\n",
            "\u001b[1m863/863\u001b[0m \u001b[32m━━━━━━━━━━━━━━━━━━━━\u001b[0m\u001b[37m\u001b[0m \u001b[1m2s\u001b[0m 2ms/step - loss: 1702981.5000 - mse: 1702981.5000 - val_loss: 2432245.0000 - val_mse: 2432245.0000\n",
            "Epoch 22/50\n",
            "\u001b[1m863/863\u001b[0m \u001b[32m━━━━━━━━━━━━━━━━━━━━\u001b[0m\u001b[37m\u001b[0m \u001b[1m3s\u001b[0m 2ms/step - loss: 1734477.5000 - mse: 1734477.5000 - val_loss: 2416538.0000 - val_mse: 2416538.0000\n",
            "Epoch 23/50\n",
            "\u001b[1m863/863\u001b[0m \u001b[32m━━━━━━━━━━━━━━━━━━━━\u001b[0m\u001b[37m\u001b[0m \u001b[1m2s\u001b[0m 2ms/step - loss: 1679949.5000 - mse: 1679949.5000 - val_loss: 2394491.2500 - val_mse: 2394491.2500\n",
            "Epoch 24/50\n",
            "\u001b[1m863/863\u001b[0m \u001b[32m━━━━━━━━━━━━━━━━━━━━\u001b[0m\u001b[37m\u001b[0m \u001b[1m3s\u001b[0m 3ms/step - loss: 1542665.3750 - mse: 1542665.3750 - val_loss: 2343155.2500 - val_mse: 2343155.2500\n",
            "Epoch 25/50\n",
            "\u001b[1m863/863\u001b[0m \u001b[32m━━━━━━━━━━━━━━━━━━━━\u001b[0m\u001b[37m\u001b[0m \u001b[1m2s\u001b[0m 2ms/step - loss: 1691818.8750 - mse: 1691818.8750 - val_loss: 2337803.2500 - val_mse: 2337803.2500\n",
            "Epoch 26/50\n",
            "\u001b[1m863/863\u001b[0m \u001b[32m━━━━━━━━━━━━━━━━━━━━\u001b[0m\u001b[37m\u001b[0m \u001b[1m2s\u001b[0m 2ms/step - loss: 1546470.2500 - mse: 1546470.2500 - val_loss: 2314112.0000 - val_mse: 2314112.0000\n",
            "Epoch 27/50\n",
            "\u001b[1m863/863\u001b[0m \u001b[32m━━━━━━━━━━━━━━━━━━━━\u001b[0m\u001b[37m\u001b[0m \u001b[1m2s\u001b[0m 2ms/step - loss: 1705050.1250 - mse: 1705050.1250 - val_loss: 2309366.2500 - val_mse: 2309366.2500\n",
            "Epoch 28/50\n",
            "\u001b[1m863/863\u001b[0m \u001b[32m━━━━━━━━━━━━━━━━━━━━\u001b[0m\u001b[37m\u001b[0m \u001b[1m2s\u001b[0m 2ms/step - loss: 1567669.6250 - mse: 1567669.6250 - val_loss: 2292236.7500 - val_mse: 2292236.7500\n",
            "Epoch 29/50\n",
            "\u001b[1m863/863\u001b[0m \u001b[32m━━━━━━━━━━━━━━━━━━━━\u001b[0m\u001b[37m\u001b[0m \u001b[1m2s\u001b[0m 2ms/step - loss: 1558690.0000 - mse: 1558690.0000 - val_loss: 2261778.7500 - val_mse: 2261778.7500\n",
            "Epoch 30/50\n",
            "\u001b[1m863/863\u001b[0m \u001b[32m━━━━━━━━━━━━━━━━━━━━\u001b[0m\u001b[37m\u001b[0m \u001b[1m2s\u001b[0m 2ms/step - loss: 1615141.7500 - mse: 1615141.7500 - val_loss: 2290397.0000 - val_mse: 2290397.0000\n",
            "Epoch 31/50\n",
            "\u001b[1m863/863\u001b[0m \u001b[32m━━━━━━━━━━━━━━━━━━━━\u001b[0m\u001b[37m\u001b[0m \u001b[1m3s\u001b[0m 2ms/step - loss: 1492995.1250 - mse: 1492995.1250 - val_loss: 2271906.5000 - val_mse: 2271906.5000\n",
            "Epoch 32/50\n",
            "\u001b[1m863/863\u001b[0m \u001b[32m━━━━━━━━━━━━━━━━━━━━\u001b[0m\u001b[37m\u001b[0m \u001b[1m2s\u001b[0m 2ms/step - loss: 1574856.2500 - mse: 1574856.2500 - val_loss: 2252894.7500 - val_mse: 2252894.7500\n",
            "Epoch 33/50\n",
            "\u001b[1m863/863\u001b[0m \u001b[32m━━━━━━━━━━━━━━━━━━━━\u001b[0m\u001b[37m\u001b[0m \u001b[1m2s\u001b[0m 2ms/step - loss: 1486623.3750 - mse: 1486623.3750 - val_loss: 2222685.0000 - val_mse: 2222685.0000\n",
            "Epoch 34/50\n",
            "\u001b[1m863/863\u001b[0m \u001b[32m━━━━━━━━━━━━━━━━━━━━\u001b[0m\u001b[37m\u001b[0m \u001b[1m2s\u001b[0m 2ms/step - loss: 1473045.0000 - mse: 1473045.0000 - val_loss: 2191183.2500 - val_mse: 2191183.2500\n",
            "Epoch 35/50\n",
            "\u001b[1m863/863\u001b[0m \u001b[32m━━━━━━━━━━━━━━━━━━━━\u001b[0m\u001b[37m\u001b[0m \u001b[1m2s\u001b[0m 2ms/step - loss: 1590994.8750 - mse: 1590994.8750 - val_loss: 2234376.0000 - val_mse: 2234376.0000\n",
            "Epoch 36/50\n",
            "\u001b[1m863/863\u001b[0m \u001b[32m━━━━━━━━━━━━━━━━━━━━\u001b[0m\u001b[37m\u001b[0m \u001b[1m3s\u001b[0m 3ms/step - loss: 1466096.8750 - mse: 1466096.8750 - val_loss: 2183871.7500 - val_mse: 2183871.7500\n",
            "Epoch 37/50\n",
            "\u001b[1m863/863\u001b[0m \u001b[32m━━━━━━━━━━━━━━━━━━━━\u001b[0m\u001b[37m\u001b[0m \u001b[1m2s\u001b[0m 2ms/step - loss: 1419941.6250 - mse: 1419941.6250 - val_loss: 2195596.7500 - val_mse: 2195596.7500\n",
            "Epoch 38/50\n",
            "\u001b[1m863/863\u001b[0m \u001b[32m━━━━━━━━━━━━━━━━━━━━\u001b[0m\u001b[37m\u001b[0m \u001b[1m2s\u001b[0m 2ms/step - loss: 1385461.6250 - mse: 1385461.6250 - val_loss: 2143383.2500 - val_mse: 2143383.2500\n",
            "Epoch 39/50\n",
            "\u001b[1m863/863\u001b[0m \u001b[32m━━━━━━━━━━━━━━━━━━━━\u001b[0m\u001b[37m\u001b[0m \u001b[1m2s\u001b[0m 2ms/step - loss: 1441102.0000 - mse: 1441102.0000 - val_loss: 2135258.2500 - val_mse: 2135258.2500\n",
            "Epoch 40/50\n",
            "\u001b[1m863/863\u001b[0m \u001b[32m━━━━━━━━━━━━━━━━━━━━\u001b[0m\u001b[37m\u001b[0m \u001b[1m3s\u001b[0m 2ms/step - loss: 1549528.7500 - mse: 1549528.7500 - val_loss: 2161132.0000 - val_mse: 2161132.0000\n",
            "Epoch 41/50\n",
            "\u001b[1m863/863\u001b[0m \u001b[32m━━━━━━━━━━━━━━━━━━━━\u001b[0m\u001b[37m\u001b[0m \u001b[1m3s\u001b[0m 2ms/step - loss: 1491140.2500 - mse: 1491140.2500 - val_loss: 2081809.7500 - val_mse: 2081809.7500\n",
            "Epoch 42/50\n",
            "\u001b[1m863/863\u001b[0m \u001b[32m━━━━━━━━━━━━━━━━━━━━\u001b[0m\u001b[37m\u001b[0m \u001b[1m3s\u001b[0m 3ms/step - loss: 1381875.5000 - mse: 1381875.5000 - val_loss: 2114205.7500 - val_mse: 2114205.7500\n",
            "Epoch 43/50\n",
            "\u001b[1m863/863\u001b[0m \u001b[32m━━━━━━━━━━━━━━━━━━━━\u001b[0m\u001b[37m\u001b[0m \u001b[1m2s\u001b[0m 2ms/step - loss: 1474134.6250 - mse: 1474134.6250 - val_loss: 2094296.8750 - val_mse: 2094296.8750\n",
            "Epoch 44/50\n",
            "\u001b[1m863/863\u001b[0m \u001b[32m━━━━━━━━━━━━━━━━━━━━\u001b[0m\u001b[37m\u001b[0m \u001b[1m2s\u001b[0m 2ms/step - loss: 1540596.3750 - mse: 1540596.3750 - val_loss: 2097770.0000 - val_mse: 2097770.0000\n",
            "Epoch 45/50\n",
            "\u001b[1m863/863\u001b[0m \u001b[32m━━━━━━━━━━━━━━━━━━━━\u001b[0m\u001b[37m\u001b[0m \u001b[1m2s\u001b[0m 2ms/step - loss: 1368640.8750 - mse: 1368640.8750 - val_loss: 2090077.6250 - val_mse: 2090077.6250\n",
            "Epoch 46/50\n",
            "\u001b[1m863/863\u001b[0m \u001b[32m━━━━━━━━━━━━━━━━━━━━\u001b[0m\u001b[37m\u001b[0m \u001b[1m2s\u001b[0m 2ms/step - loss: 1357530.6250 - mse: 1357530.6250 - val_loss: 2131955.0000 - val_mse: 2131955.0000\n",
            "Epoch 47/50\n",
            "\u001b[1m863/863\u001b[0m \u001b[32m━━━━━━━━━━━━━━━━━━━━\u001b[0m\u001b[37m\u001b[0m \u001b[1m3s\u001b[0m 2ms/step - loss: 1474529.8750 - mse: 1474529.8750 - val_loss: 2073801.8750 - val_mse: 2073801.8750\n",
            "Epoch 48/50\n",
            "\u001b[1m863/863\u001b[0m \u001b[32m━━━━━━━━━━━━━━━━━━━━\u001b[0m\u001b[37m\u001b[0m \u001b[1m2s\u001b[0m 3ms/step - loss: 1334856.0000 - mse: 1334856.0000 - val_loss: 2108752.2500 - val_mse: 2108752.2500\n",
            "Epoch 49/50\n",
            "\u001b[1m863/863\u001b[0m \u001b[32m━━━━━━━━━━━━━━━━━━━━\u001b[0m\u001b[37m\u001b[0m \u001b[1m2s\u001b[0m 2ms/step - loss: 1339589.5000 - mse: 1339589.5000 - val_loss: 2095459.5000 - val_mse: 2095459.5000\n",
            "Epoch 50/50\n",
            "\u001b[1m863/863\u001b[0m \u001b[32m━━━━━━━━━━━━━━━━━━━━\u001b[0m\u001b[37m\u001b[0m \u001b[1m2s\u001b[0m 2ms/step - loss: 1354784.8750 - mse: 1354784.8750 - val_loss: 2062848.5000 - val_mse: 2062848.5000\n"
          ]
        }
      ]
    },
    {
      "cell_type": "markdown",
      "source": [
        "模型校正"
      ],
      "metadata": {
        "id": "V5OTWOm9f-DE"
      }
    },
    {
      "cell_type": "code",
      "source": [
        "# Model Adjustment\n",
        "import HappyML.model_drawer as md\n",
        "\n",
        "md.epochs_metrics_plot(epochs_metrics.history, keys=(\"loss\", \"val_loss\"), title=\"Loss of Training vs. Validating\", xyLabel=(\"Epochs\", \"Loss\"))\n",
        "md.epochs_metrics_plot(epochs_metrics.history, keys=(\"mse\", \"val_mse\"), title=\"MSE of Training vs. Validating\", xyLabel=(\"Epochs\", \"MSE\"))"
      ],
      "metadata": {
        "colab": {
          "base_uri": "https://localhost:8080/",
          "height": 927
        },
        "id": "61Fq7o1qgAax",
        "outputId": "c06376e6-0ec4-45f6-d3b9-aa208a5c0a98"
      },
      "execution_count": 22,
      "outputs": [
        {
          "output_type": "display_data",
          "data": {
            "text/plain": [
              "<Figure size 640x480 with 1 Axes>"
            ],
            "image/png": "[encoded data removed]"
          },
          "metadata": {}
        },
        {
          "output_type": "display_data",
          "data": {
            "text/plain": [
              "<Figure size 640x480 with 1 Axes>"
            ],
            "image/png": "[encoded data removed]"
          },
          "metadata": {}
        }
      ]
    },
    {
      "cell_type": "markdown",
      "source": [
        "預測價格"
      ],
      "metadata": {
        "id": "AQZJsRohgooY"
      }
    },
    {
      "cell_type": "code",
      "source": [
        "# Predict\n",
        "import pandas as pd\n",
        "Y_pred = pd.DataFrame(model.predict(x=X_test), index=Y_test.index, columns=Y_test.columns)\n",
        "\n",
        "# Show the Predict Result\n",
        "df = pd.concat([Y_test, Y_pred], axis=1)\n",
        "print(df)"
      ],
      "metadata": {
        "colab": {
          "base_uri": "https://localhost:8080/"
        },
        "id": "gXbUVW3hgbFb",
        "outputId": "e5a2c580-afd0-4be2-dae8-cdb1ed9d4e3b"
      },
      "execution_count": 23,
      "outputs": [
        {
          "output_type": "stream",
          "name": "stdout",
          "text": [
            "\u001b[1m43/43\u001b[0m \u001b[32m━━━━━━━━━━━━━━━━━━━━\u001b[0m\u001b[37m\u001b[0m \u001b[1m1s\u001b[0m 6ms/step\n",
            "      price         price\n",
            "3331  15495  15134.805664\n",
            "3612  11500   9907.870117\n",
            "4284   9995   9975.115234\n",
            "3545  11490  12281.544922\n",
            "280   21450  21694.435547\n",
            "...     ...           ...\n",
            "6023  20995  21021.500000\n",
            "5681  19998  21064.117188\n",
            "5612  17998  19847.601562\n",
            "251   19291  21031.800781\n",
            "6286  26700  23704.332031\n",
            "\n",
            "[1348 rows x 2 columns]\n"
          ]
        }
      ]
    },
    {
      "cell_type": "markdown",
      "source": [
        "模型評估"
      ],
      "metadata": {
        "id": "DjP6BWzNgtzS"
      }
    },
    {
      "cell_type": "code",
      "source": [
        "# Evaluation\n",
        "test_loss, test_mse = model.evaluate(X_test, Y_test)\n",
        "print(\"Loss of Testing Set:\", test_loss)\n",
        "print(\"MSE of Testing Set:\", test_mse)"
      ],
      "metadata": {
        "colab": {
          "base_uri": "https://localhost:8080/"
        },
        "id": "m9vkVK30gvrC",
        "outputId": "3ae94f5b-1c88-4c66-dcd4-48c83ca43258"
      },
      "execution_count": 24,
      "outputs": [
        {
          "output_type": "stream",
          "name": "stdout",
          "text": [
            "\u001b[1m43/43\u001b[0m \u001b[32m━━━━━━━━━━━━━━━━━━━━\u001b[0m\u001b[37m\u001b[0m \u001b[1m0s\u001b[0m 5ms/step - loss: 1921065.8750 - mse: 1921065.8750\n",
            "Loss of Testing Set: 1707214.375\n",
            "MSE of Testing Set: 1707214.375\n"
          ]
        }
      ]
    }
  ]
}
